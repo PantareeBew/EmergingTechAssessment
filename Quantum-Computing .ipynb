{
 "cells": [
  {
   "cell_type": "markdown",
   "id": "267bb4cc-03a6-4e6d-b910-7b7adfbe9f66",
   "metadata": {},
   "source": [
    "# Quamtum Computing Jupyter Notebook"
   ]
  },
  {
   "cell_type": "code",
   "execution_count": 1,
   "id": "6a1a69dc-e788-47bc-8383-6d27d0c159a2",
   "metadata": {},
   "outputs": [],
   "source": [
    "import qiskit"
   ]
  },
  {
   "cell_type": "code",
   "execution_count": null,
   "id": "d597fb6a-9ed8-45c3-bfd5-235fca27982d",
   "metadata": {},
   "outputs": [],
   "source": []
  }
 ],
 "metadata": {
  "kernelspec": {
   "display_name": "Python 3 (ipykernel)",
   "language": "python",
   "name": "python3"
  },
  "language_info": {
   "codemirror_mode": {
    "name": "ipython",
    "version": 3
   },
   "file_extension": ".py",
   "mimetype": "text/x-python",
   "name": "python",
   "nbconvert_exporter": "python",
   "pygments_lexer": "ipython3",
   "version": "3.9.7"
  }
 },
 "nbformat": 4,
 "nbformat_minor": 5
}
