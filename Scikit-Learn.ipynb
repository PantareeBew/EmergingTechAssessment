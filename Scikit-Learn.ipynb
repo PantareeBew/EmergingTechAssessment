{
 "cells": [
  {
   "cell_type": "markdown",
   "id": "70c8e7e8-2710-43d2-8133-dc2378a9c54e",
   "metadata": {
    "tags": []
   },
   "source": [
    "# Scikit-Learn Jupyter Notebook\n",
    "<hr>"
   ]
  },
  {
   "cell_type": "markdown",
   "id": "598e539c-6b35-4af3-a850-1c4b3c62949f",
   "metadata": {},
   "source": [
    "<a href=\"https://scikit-learn.org/stable/tutorial/basic/tutorial.html\"> Link to Scikit-Learn Official website</a><p>\n",
    "https://www.tutorialspoint.com/scikit_learn/index.htm\n",
    "<hr>\n",
    "\n",
    "## Overview\n",
    "<b>Scikit-Learn</b> is a free and useful machine learning library for Python. It contains many efficient unsupervised and supervised learning algorithms. This library also built upon some of the technology that we know like NumPy."
   ]
  },
  {
   "cell_type": "markdown",
   "id": "e681486f-84fb-4274-98a4-03da142486dc",
   "metadata": {},
   "source": [
    "<b>The functionality that scikit-learn provides include:</b>\n",
    "<ul>\n",
    "<li><b>Regression</b></li>\n",
    "<li><b>Classification</b></li>\n",
    "<li><b>Clustering</b></li>\n",
    "<li><b>Model selection</b></li>\n",
    "<li><b>Preprocessing</b></li>\n",
    "</ul>\n",
    "<b>Reference:</b> \n",
    "<a href=\"https://www.codecademy.com/article/scikit-learn\">Codecademy</a>"
   ]
  },
  {
   "cell_type": "markdown",
   "id": "aa2bf69d-3d31-4048-b7cf-34c074bf5dce",
   "metadata": {},
   "source": [
    "## Set Up"
   ]
  },
  {
   "cell_type": "code",
   "execution_count": 8,
   "id": "79b29827-f4fe-40f4-ba58-ff2cdfbb22ad",
   "metadata": {},
   "outputs": [],
   "source": [
    "# scikit learn\n",
    "import sklearn as sk\n",
    "\n",
    "# Numerical arrays.\n",
    "import numpy as np\n",
    "\n",
    "# Data frames.\n",
    "import pandas as pd\n",
    "\n",
    "# Plotting.\n",
    "import matplotlib.pyplot as plt\n",
    "\n",
    "# Logistic regression.\n",
    "import sklearn.linear_model as lm\n",
    "\n",
    "# K nearest neaighbours.\n",
    "import sklearn.neighbors as nei\n",
    "\n",
    "# Helper functions.\n",
    "import sklearn.model_selection as mod\n",
    "\n",
    "# Fancier, statistical plots.\n",
    "import seaborn as sns"
   ]
  },
  {
   "cell_type": "code",
   "execution_count": 3,
   "id": "a0286515-d03e-4bf8-a070-dd6092ea1ecd",
   "metadata": {},
   "outputs": [],
   "source": [
    "# Standard plot size.\n",
    "plt.rcParams['figure.figsize'] = (15, 10)\n",
    "\n",
    "# Standard colour scheme.\n",
    "plt.style.use('ggplot')"
   ]
  },
  {
   "cell_type": "code",
   "execution_count": null,
   "id": "ecd7d06c-0159-49c1-a420-88c6d4c48ed1",
   "metadata": {},
   "outputs": [],
   "source": []
  },
  {
   "cell_type": "code",
   "execution_count": null,
   "id": "136c4bde-e393-47d8-be4b-679a839aae7d",
   "metadata": {},
   "outputs": [],
   "source": []
  },
  {
   "cell_type": "code",
   "execution_count": null,
   "id": "9814f9a4-5197-45bc-9d69-fda40b0c48cb",
   "metadata": {},
   "outputs": [],
   "source": []
  }
 ],
 "metadata": {
  "kernelspec": {
   "display_name": "Python 3 (ipykernel)",
   "language": "python",
   "name": "python3"
  },
  "language_info": {
   "codemirror_mode": {
    "name": "ipython",
    "version": 3
   },
   "file_extension": ".py",
   "mimetype": "text/x-python",
   "name": "python",
   "nbconvert_exporter": "python",
   "pygments_lexer": "ipython3",
   "version": "3.9.7"
  }
 },
 "nbformat": 4,
 "nbformat_minor": 5
}
